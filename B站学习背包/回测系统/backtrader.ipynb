{
 "cells": [
  {
   "cell_type": "code",
   "id": "initial_id",
   "metadata": {
    "collapsed": true,
    "ExecuteTime": {
     "end_time": "2025-02-09T04:07:06.976448Z",
     "start_time": "2025-02-09T04:07:06.970558Z"
    }
   },
   "source": [
    "import pandas as pd  \n",
    "import talib\n",
    "from datetime import datetime\n",
    "import backtrader as bt\n",
    "import matplotlib.pyplot as plt\n",
    "import akshare as ak\n",
    "import numpy as np\n",
    "%matplotlib inline   \n",
    "\n",
    "#正常显示画图时出现的中文和负号\n",
    "from pylab import mpl\n",
    "\n",
    "mpl.rcParams['font.sans-serif']=['SimHei']\n",
    "mpl.rcParams['axes.unicode_minus']=False"
   ],
   "outputs": [],
   "execution_count": 10
  },
  {
   "metadata": {
    "ExecuteTime": {
     "end_time": "2025-02-09T04:07:07.023798Z",
     "start_time": "2025-02-09T04:07:07.020050Z"
    }
   },
   "cell_type": "code",
   "source": [
    "class my_strategy2(bt.Strategy):\n",
    "    #全局设定交易策略的参数\n",
    "\n",
    "    def __init__(self):\n",
    "        # 初始化交易指令、买卖价格和手续费\n",
    "        self.order = None\n",
    "\n",
    "    def next(self):\n",
    "        # 检查是否持仓 \n",
    "        if not self.position: # 没有持仓\n",
    "            #self.order = self.buy(size=500)\n",
    "            #self.order_target_value(target=10000)\n",
    "            #self.order_target_size(target=10000)(佣金)\n",
    "            self.order_target_percent(target=0.7)\n",
    "            #print(self.datetime.date(0),self.position)"
   ],
   "id": "26b80c17fc5dcf8f",
   "outputs": [],
   "execution_count": 11
  },
  {
   "metadata": {},
   "cell_type": "code",
   "outputs": [],
   "execution_count": null,
   "source": [
    "class my_strategy_ma30(bt.Strategy):\n",
    "    #全局设定交易策略的参数\n",
    "\n",
    "    def __init__(self):\n",
    "        # 初始化交易指令、买卖价格和手续费\n",
    "        self.order = None\n",
    "\n",
    "    def next(self):\n",
    "        # 检查是否持仓 \n",
    "        if not self.position: # 没有持仓\n",
    "            #self.order = self.buy(size=500)\n",
    "            #self.order_target_value(target=10000)\n",
    "            #self.order_target_size(target=10000)(佣金)\n",
    "            self.order_target_percent(target=0.7)\n",
    "            #print(self.datetime.date(0),self.position)"
   ],
   "id": "47aa4ed04e154890"
  },
  {
   "metadata": {
    "ExecuteTime": {
     "end_time": "2025-02-09T04:07:07.302431Z",
     "start_time": "2025-02-09T04:07:07.028812Z"
    }
   },
   "cell_type": "code",
   "source": [
    "def get_data(symbol,start_date,end_date):\n",
    "    stock_pinan = ak.stock_zh_a_hist(symbol=symbol, period=\"daily\", start_date=start_date, end_date=end_date, adjust=\"qfq\")\n",
    "    stock_pinan.columns=['date','股票代码',\"open\",\"close\",\"high\",\"low\",\"volume\",'成交额', '振幅', '涨跌幅', '涨跌额', '换手率']\n",
    "    stock_pinan[\"date\"]=pd.to_datetime(stock_pinan[\"date\"])\n",
    "    stock_pinan['openinterest']=0\n",
    "    stock_pinan.set_index(\"date\",inplace=True)\n",
    "    return stock_pinan[[\"open\",\"high\",\"low\",\"close\",\"volume\",\"openinterest\"]]\n",
    "start=\"20100101\"\n",
    "end='20200331'\n",
    "stock_pinan=get_data(\"600000\",start,end)"
   ],
   "id": "e1794c399f47d76e",
   "outputs": [],
   "execution_count": 12
  },
  {
   "metadata": {
    "ExecuteTime": {
     "end_time": "2025-02-09T04:07:07.319461Z",
     "start_time": "2025-02-09T04:07:07.311287Z"
    }
   },
   "cell_type": "code",
   "source": "stock_pinan",
   "id": "71cf54d676a3a20f",
   "outputs": [
    {
     "data": {
      "text/plain": [
       "            open  high   low  close   volume  openinterest\n",
       "date                                                      \n",
       "2010-01-04  4.20  4.22  3.93   3.94   661913             0\n",
       "2010-01-05  4.03  4.10  3.77   4.01  1151479             0\n",
       "2010-01-06  3.98  3.99  3.81   3.83   967826             0\n",
       "2010-01-07  3.81  3.88  3.57   3.64   852361             0\n",
       "2010-01-08  3.59  3.78  3.57   3.73   657076             0\n",
       "...          ...   ...   ...    ...      ...           ...\n",
       "2020-03-25  8.07  8.14  7.99   8.02   321723             0\n",
       "2020-03-26  7.97  8.24  7.95   8.10   309218             0\n",
       "2020-03-27  8.22  8.25  8.07   8.11   271080             0\n",
       "2020-03-30  8.05  8.15  7.98   8.15   260460             0\n",
       "2020-03-31  8.17  8.23  8.00   8.02   261449             0\n",
       "\n",
       "[2442 rows x 6 columns]"
      ],
      "text/html": [
       "<div>\n",
       "<style scoped>\n",
       "    .dataframe tbody tr th:only-of-type {\n",
       "        vertical-align: middle;\n",
       "    }\n",
       "\n",
       "    .dataframe tbody tr th {\n",
       "        vertical-align: top;\n",
       "    }\n",
       "\n",
       "    .dataframe thead th {\n",
       "        text-align: right;\n",
       "    }\n",
       "</style>\n",
       "<table border=\"1\" class=\"dataframe\">\n",
       "  <thead>\n",
       "    <tr style=\"text-align: right;\">\n",
       "      <th></th>\n",
       "      <th>open</th>\n",
       "      <th>high</th>\n",
       "      <th>low</th>\n",
       "      <th>close</th>\n",
       "      <th>volume</th>\n",
       "      <th>openinterest</th>\n",
       "    </tr>\n",
       "    <tr>\n",
       "      <th>date</th>\n",
       "      <th></th>\n",
       "      <th></th>\n",
       "      <th></th>\n",
       "      <th></th>\n",
       "      <th></th>\n",
       "      <th></th>\n",
       "    </tr>\n",
       "  </thead>\n",
       "  <tbody>\n",
       "    <tr>\n",
       "      <th>2010-01-04</th>\n",
       "      <td>4.20</td>\n",
       "      <td>4.22</td>\n",
       "      <td>3.93</td>\n",
       "      <td>3.94</td>\n",
       "      <td>661913</td>\n",
       "      <td>0</td>\n",
       "    </tr>\n",
       "    <tr>\n",
       "      <th>2010-01-05</th>\n",
       "      <td>4.03</td>\n",
       "      <td>4.10</td>\n",
       "      <td>3.77</td>\n",
       "      <td>4.01</td>\n",
       "      <td>1151479</td>\n",
       "      <td>0</td>\n",
       "    </tr>\n",
       "    <tr>\n",
       "      <th>2010-01-06</th>\n",
       "      <td>3.98</td>\n",
       "      <td>3.99</td>\n",
       "      <td>3.81</td>\n",
       "      <td>3.83</td>\n",
       "      <td>967826</td>\n",
       "      <td>0</td>\n",
       "    </tr>\n",
       "    <tr>\n",
       "      <th>2010-01-07</th>\n",
       "      <td>3.81</td>\n",
       "      <td>3.88</td>\n",
       "      <td>3.57</td>\n",
       "      <td>3.64</td>\n",
       "      <td>852361</td>\n",
       "      <td>0</td>\n",
       "    </tr>\n",
       "    <tr>\n",
       "      <th>2010-01-08</th>\n",
       "      <td>3.59</td>\n",
       "      <td>3.78</td>\n",
       "      <td>3.57</td>\n",
       "      <td>3.73</td>\n",
       "      <td>657076</td>\n",
       "      <td>0</td>\n",
       "    </tr>\n",
       "    <tr>\n",
       "      <th>...</th>\n",
       "      <td>...</td>\n",
       "      <td>...</td>\n",
       "      <td>...</td>\n",
       "      <td>...</td>\n",
       "      <td>...</td>\n",
       "      <td>...</td>\n",
       "    </tr>\n",
       "    <tr>\n",
       "      <th>2020-03-25</th>\n",
       "      <td>8.07</td>\n",
       "      <td>8.14</td>\n",
       "      <td>7.99</td>\n",
       "      <td>8.02</td>\n",
       "      <td>321723</td>\n",
       "      <td>0</td>\n",
       "    </tr>\n",
       "    <tr>\n",
       "      <th>2020-03-26</th>\n",
       "      <td>7.97</td>\n",
       "      <td>8.24</td>\n",
       "      <td>7.95</td>\n",
       "      <td>8.10</td>\n",
       "      <td>309218</td>\n",
       "      <td>0</td>\n",
       "    </tr>\n",
       "    <tr>\n",
       "      <th>2020-03-27</th>\n",
       "      <td>8.22</td>\n",
       "      <td>8.25</td>\n",
       "      <td>8.07</td>\n",
       "      <td>8.11</td>\n",
       "      <td>271080</td>\n",
       "      <td>0</td>\n",
       "    </tr>\n",
       "    <tr>\n",
       "      <th>2020-03-30</th>\n",
       "      <td>8.05</td>\n",
       "      <td>8.15</td>\n",
       "      <td>7.98</td>\n",
       "      <td>8.15</td>\n",
       "      <td>260460</td>\n",
       "      <td>0</td>\n",
       "    </tr>\n",
       "    <tr>\n",
       "      <th>2020-03-31</th>\n",
       "      <td>8.17</td>\n",
       "      <td>8.23</td>\n",
       "      <td>8.00</td>\n",
       "      <td>8.02</td>\n",
       "      <td>261449</td>\n",
       "      <td>0</td>\n",
       "    </tr>\n",
       "  </tbody>\n",
       "</table>\n",
       "<p>2442 rows × 6 columns</p>\n",
       "</div>"
      ]
     },
     "execution_count": 13,
     "metadata": {},
     "output_type": "execute_result"
    }
   ],
   "execution_count": 13
  },
  {
   "metadata": {
    "ExecuteTime": {
     "end_time": "2025-02-09T04:07:07.622538Z",
     "start_time": "2025-02-09T04:07:07.347113Z"
    }
   },
   "cell_type": "code",
   "source": [
    "def huice_run(start,end,stock,strategy):\n",
    "  # 加载数据\n",
    "    data = bt.feeds.PandasData(dataname=stock,fromdate=start,todate=end)\n",
    "\n",
    "    # 初始化cerebro回测系统设置                           \n",
    "    cerebro = bt.Cerebro()  \n",
    "    #将数据传入回测系统\n",
    "    cerebro.adddata(data) \n",
    "    # 将交易策略加载到回测系统中\n",
    "    cerebro.addstrategy(strategy) \n",
    "    # 设置初始资本为10,000\n",
    "    startcash = 10000\n",
    "    cerebro.broker.setcash(startcash) \n",
    "    # 设置交易手续费为 0.2%\n",
    "    cerebro.broker.setcommission(commission=0.002) \n",
    "\n",
    "\n",
    "    print(start.date(),end.date())\n",
    "    print('初始资金: %.2f' % cerebro.broker.getvalue())\n",
    "    # cerebro.addanalyzer(bt.analyzers.SharpeRatio, _name = 'SharpeRatio')\n",
    "    # cerebro.addanalyzer(bt.analyzers.DrawDown, _name='DW')\n",
    "    results = cerebro.run()\n",
    "    strat = results[0]\n",
    "    print('最终资金: %.2f' % cerebro.broker.getvalue())\n",
    "    # print('夏普比率:', strat.analyzers.SharpeRatio.get_analysis())\n",
    "    # print('回撤指标:', strat.analyzers.DW.get_analysis())\n",
    "    \n",
    "    return cerebro\n",
    "huice_result=huice_run(datetime(2010, 3, 31),datetime(2020, 3, 31),stock_pinan,my_strategy2)"
   ],
   "id": "27398ae2ebbedcd4",
   "outputs": [
    {
     "name": "stdout",
     "output_type": "stream",
     "text": [
      "2010-03-31 2020-03-31\n",
      "初始资金: 10000.00\n",
      "最终资金: 15203.07\n"
     ]
    }
   ],
   "execution_count": 14
  },
  {
   "metadata": {
    "ExecuteTime": {
     "end_time": "2025-02-09T04:07:08.971339Z",
     "start_time": "2025-02-09T04:07:07.646145Z"
    }
   },
   "cell_type": "code",
   "source": [
    "%matplotlib inline\n",
    "huice_result.plot(style='candlestick', iplot=False, block=True)"
   ],
   "id": "60f61a2117f16bc9",
   "outputs": [
    {
     "data": {
      "text/plain": [
       "<Figure size 640x480 with 20 Axes>"
      ],
      "image/png": "[encoded data removed]"
     },
     "metadata": {},
     "output_type": "display_data"
    },
    {
     "data": {
      "text/plain": [
       "[[<Figure size 640x480 with 20 Axes>]]"
      ]
     },
     "execution_count": 15,
     "metadata": {},
     "output_type": "execute_result"
    }
   ],
   "execution_count": 15
  },
  {
   "metadata": {
    "ExecuteTime": {
     "end_time": "2025-02-09T04:07:09.073226Z",
     "start_time": "2025-02-09T04:07:09.071192Z"
    }
   },
   "cell_type": "code",
   "source": "",
   "id": "35e157aba6525da1",
   "outputs": [],
   "execution_count": null
  },
  {
   "metadata": {
    "ExecuteTime": {
     "end_time": "2025-02-09T04:07:09.107684Z",
     "start_time": "2025-02-09T04:07:09.104687Z"
    }
   },
   "cell_type": "code",
   "source": "",
   "id": "f1dd3b4fdd245dd0",
   "outputs": [],
   "execution_count": null
  }
 ],
 "metadata": {
  "kernelspec": {
   "display_name": "Python 3",
   "language": "python",
   "name": "python3"
  },
  "language_info": {
   "codemirror_mode": {
    "name": "ipython",
    "version": 2
   },
   "file_extension": ".py",
   "mimetype": "text/x-python",
   "name": "python",
   "nbconvert_exporter": "python",
   "pygments_lexer": "ipython2",
   "version": "2.7.6"
  }
 },
 "nbformat": 4,
 "nbformat_minor": 5
}
