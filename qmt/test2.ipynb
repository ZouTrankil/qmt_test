{
 "cells": [
  {
   "cell_type": "code",
   "id": "initial_id",
   "metadata": {
    "collapsed": true,
    "ExecuteTime": {
     "end_time": "2025-02-19T05:55:46.682699Z",
     "start_time": "2025-02-19T05:55:46.681499Z"
    }
   },
   "source": [
    ""
   ],
   "outputs": [],
   "execution_count": null
  },
  {
   "metadata": {
    "ExecuteTime": {
     "end_time": "2025-02-19T05:55:47.140753Z",
     "start_time": "2025-02-19T05:55:46.683494Z"
    }
   },
   "cell_type": "code",
   "source": [
    "#!/usr/bin/env python3\n",
    "# -*- coding: utf-8 -*-\n",
    "\"\"\"\n",
    "Created on 19/02/2025.\n",
    "@author: Air.Zou\n",
    "\"\"\"\n",
    "# ... existing code ...\n",
    "import tushare as ts\n",
    "import pandas as pd\n",
    "# 设置 tushare token\n",
    "ts.set_token('2876ea85cb005fb5fa17c809a98174f2d5aae8b1f830110a5ead6211')\n",
    "pro = ts.pro_api()\n",
    "\n",
    "df = pro.fund_daily(ts_code='510310.SH', start_date='20241010', end_date='20250217')\n",
    "print(df.head())\n"
   ],
   "id": "6e8c49cefcd9441e",
   "outputs": [
    {
     "name": "stdout",
     "output_type": "stream",
     "text": [
      "     ts_code trade_date  pre_close   open   high    low  close  change  \\\n",
      "0  510310.SH   20250217      3.877  3.890  3.892  3.855  3.886   0.009   \n",
      "1  510310.SH   20250214      3.847  3.840  3.882  3.840  3.877   0.030   \n",
      "2  510310.SH   20250213      3.855  3.852  3.875  3.841  3.847  -0.008   \n",
      "3  510310.SH   20250212      3.819  3.818  3.861  3.803  3.855   0.036   \n",
      "4  510310.SH   20250211      3.835  3.839  3.841  3.807  3.819  -0.016   \n",
      "\n",
      "   pct_chg         vol       amount  \n",
      "0   0.2321  5059698.89  1959512.306  \n",
      "1   0.7798  3506845.82  1355264.298  \n",
      "2  -0.2075  4126833.85  1590991.272  \n",
      "3   0.9427  2841055.19  1087206.279  \n",
      "4  -0.4172  3677965.61  1404633.404  \n"
     ]
    }
   ],
   "execution_count": 1
  },
  {
   "metadata": {
    "ExecuteTime": {
     "end_time": "2025-02-19T05:55:47.147521Z",
     "start_time": "2025-02-19T05:55:47.141722Z"
    }
   },
   "cell_type": "code",
   "source": [
    "df[\"date\"]=pd.to_datetime(df[\"trade_date\"])\n",
    "df['openinterest']=0\n",
    "df.rename(columns={'amount':'volume'}, inplace=True)\n",
    "df.set_index(\"date\",inplace=True)\n",
    "df = df[[\"open\",\"high\",\"low\",\"close\",\"volume\",\"openinterest\"]]\n",
    "print(df.head())\n"
   ],
   "id": "1b68a51f85403348",
   "outputs": [
    {
     "name": "stdout",
     "output_type": "stream",
     "text": [
      "             open   high    low  close       volume  openinterest\n",
      "date                                                             \n",
      "2025-02-17  3.890  3.892  3.855  3.886  1959512.306             0\n",
      "2025-02-14  3.840  3.882  3.840  3.877  1355264.298             0\n",
      "2025-02-13  3.852  3.875  3.841  3.847  1590991.272             0\n",
      "2025-02-12  3.818  3.861  3.803  3.855  1087206.279             0\n",
      "2025-02-11  3.839  3.841  3.807  3.819  1404633.404             0\n"
     ]
    }
   ],
   "execution_count": 2
  },
  {
   "metadata": {
    "ExecuteTime": {
     "end_time": "2025-02-19T05:55:47.498535Z",
     "start_time": "2025-02-19T05:55:47.148277Z"
    }
   },
   "cell_type": "code",
   "source": [
    "\n",
    "import matplotlib\n",
    "import pandas as pd\n",
    "import talib\n",
    "from datetime import datetime\n",
    "import backtrader as bt\n",
    "import matplotlib.pyplot as plt\n",
    "import akshare as ak\n",
    "import numpy as np\n",
    "class MyStrategy(bt.Strategy):\n",
    "    def __init__(self):\n",
    "        # 添加 MA5 和 MA10 指标\n",
    "        self.sma5 = bt.indicators.SimpleMovingAverage(self.data.close, period=3)\n",
    "        self.sma10 = bt.indicators.SimpleMovingAverage(self.data.close, period=20)\n",
    "        # 计算 MA5 和 MA10 的交叉信号\n",
    "        self.crossover = bt.indicators.CrossOver(self.sma5, self.sma10)\n",
    "\n",
    "    def next(self):\n",
    "        # 如果 MA5 上穿 MA10，买入\n",
    "        if self.crossover > 0:\n",
    "            print(\"买入\")\n",
    "            self.buy()\n",
    "        # 如果 MA5 下穿 MA10，卖出\n",
    "        elif self.crossover < 0:\n",
    "            print(\"卖出\")\n",
    "            self.sell()\n"
   ],
   "id": "e0534e5c7dd55783",
   "outputs": [],
   "execution_count": 3
  },
  {
   "metadata": {
    "ExecuteTime": {
     "end_time": "2025-02-19T05:55:47.502673Z",
     "start_time": "2025-02-19T05:55:47.499722Z"
    }
   },
   "cell_type": "code",
   "source": [
    "import backtrader as bt\n",
    "\n",
    "class DynamicPositionStrategy(bt.Strategy):\n",
    "    def __init__(self):\n",
    "        self.sma5 = bt.indicators.SimpleMovingAverage(self.data.close, period=3)\n",
    "        self.sma10 = bt.indicators.SimpleMovingAverage(self.data.close, period=10)\n",
    "        self.crossover = bt.indicators.CrossOver(self.sma5, self.sma10)\n",
    "        # 假设使用波动率指标来动态调整仓位\n",
    "        self.volatility = bt.indicators.StdDev(self.data.close, period=20)\n",
    "\n",
    "    def next(self):\n",
    "        if self.crossover > 0:\n",
    "            available_cash = self.broker.get_cash()\n",
    "            # 手动计算波动率的均值\n",
    "            volatility_data = self.volatility.get(size=20)  # 获取最近 20 个周期的波动率数据\n",
    "            if len(volatility_data) == 20:  # 确保有足够的数据来计算均值\n",
    "                volatility_mean = sum(volatility_data) / len(volatility_data)\n",
    "            else:\n",
    "                # 如果数据不足，使用默认值，这里简单设为 0\n",
    "                volatility_mean = 0\n",
    "            # 根据波动率动态调整仓位比例\n",
    "            if self.volatility[0] > volatility_mean:\n",
    "                # 高波动率时使用 30% 的资金\n",
    "                invest_ratio = 0.3\n",
    "            else:\n",
    "                # 低波动率时使用 70% 的资金\n",
    "                invest_ratio = 0.7\n",
    "            invest_amount = available_cash * invest_ratio\n",
    "            price = self.data.close[0]\n",
    "            size = invest_amount / price\n",
    "            self.buy(size=size)\n",
    "            print('buy size:', size)\n",
    "        elif self.crossover < 0:\n",
    "            available_cash = self.broker.get_cash()\n",
    "            self.sell(size=self.position.size)\n",
    "            price = self.data.close[0]\n",
    "            # 原代码中这里计算卖出数量有误，应该是卖出持仓数量\n",
    "            # size = available_cash * price  修改为\n",
    "            size = self.position.size\n",
    "            print('sell size', size)\n"
   ],
   "id": "4e3fbb58dae52819",
   "outputs": [],
   "execution_count": 4
  },
  {
   "metadata": {
    "ExecuteTime": {
     "end_time": "2025-02-19T05:55:47.506926Z",
     "start_time": "2025-02-19T05:55:47.503293Z"
    }
   },
   "cell_type": "code",
   "source": [
    "import backtrader as bt\n",
    "import pandas as pd\n",
    "from datetime import datetime\n",
    "\n",
    "class DynamicPositionStrategy2(bt.Strategy):\n",
    "    def __init__(self):\n",
    "        self.sma5 = bt.indicators.SimpleMovingAverage(self.data.close, period=3)\n",
    "        self.sma10 = bt.indicators.SimpleMovingAverage(self.data.close, period=10)\n",
    "        self.crossover = bt.indicators.CrossOver(self.sma5, self.sma10)\n",
    "        # 假设使用波动率指标来动态调整仓位\n",
    "        self.volatility = bt.indicators.StdDev(self.data.close, period=20)\n",
    "\n",
    "    def next(self):\n",
    "        # 获取当前日期\n",
    "        current_date = self.data.datetime.date(0)\n",
    "        # 获取当前可用资金\n",
    "        available_cash = self.broker.get_cash()\n",
    "        # 获取当前持仓数量\n",
    "        position_size = self.position.size\n",
    "        # 获取当前价格\n",
    "        price = self.data.close[0]\n",
    "\n",
    "        # 手动计算波动率的均值\n",
    "        volatility_data = self.volatility.get(size=20)  # 获取最近 20 个周期的波动率数据\n",
    "        if len(volatility_data) == 20:  # 确保有足够的数据来计算均值\n",
    "            volatility_mean = sum(volatility_data) / len(volatility_data)\n",
    "        else:\n",
    "            # 如果数据不足，使用默认值，这里简单设为 0\n",
    "            volatility_mean = 0\n",
    "\n",
    "        if self.crossover > 0:\n",
    "            # 计算可投资金比例\n",
    "            if self.volatility[0] > volatility_mean:\n",
    "                # 高波动率时使用 30% 的资金\n",
    "                invest_ratio = 0.3\n",
    "            else:\n",
    "                # 低波动率时使用 70% 的资金\n",
    "                invest_ratio = 0.7\n",
    "            invest_amount = available_cash * invest_ratio\n",
    "\n",
    "            if invest_amount > 0:\n",
    "                # 计算可买入数量\n",
    "                size = invest_amount / price\n",
    "                self.buy(size=size)\n",
    "                print(f'{current_date}: 买入信号触发，可用资金: {available_cash:.2f}，投资比例: {invest_ratio * 100:.2f}%，买入数量: {size:.2f}')\n",
    "            else:\n",
    "                print(f'{current_date}: 买入信号触发，但可用资金不足')\n",
    "\n",
    "        elif self.crossover < 0:\n",
    "            if position_size > 0:\n",
    "                self.sell(size=position_size)\n",
    "                print(f'{current_date}: 卖出信号触发，卖出数量: {position_size:.2f}')\n",
    "            else:\n",
    "                print(f'{current_date}: 卖出信号触发，但没有持仓')\n"
   ],
   "id": "b49bc46b1e0fda88",
   "outputs": [],
   "execution_count": 5
  },
  {
   "metadata": {
    "ExecuteTime": {
     "end_time": "2025-02-19T05:56:33.664422Z",
     "start_time": "2025-02-19T05:55:47.507886Z"
    }
   },
   "cell_type": "code",
   "source": [
    "\n",
    "# 创建 Cerebro 引擎\n",
    "cerebro = bt.Cerebro()\n",
    "\n",
    "# 添加策略\n",
    "cerebro.addstrategy(DynamicPositionStrategy2)\n",
    "\n",
    "s = datetime.strptime(\"20241010\", \"%Y%m%d\")\n",
    "e = datetime.strptime(\"20250217\", \"%Y%m%d\")\n",
    "cerebro.adddata(bt.feeds.PandasData(dataname=df,fromdate=s,todate=e))\n",
    "\n",
    "# 设置初始资金\n",
    "cerebro.broker.set_cash(1000000.0)\n",
    "\n",
    "# 设置仓位\n",
    "\n",
    "\n",
    "# 设置交易手续费\n",
    "cerebro.broker.setcommission(commission=0.002)\n",
    "\n",
    "# 运行回测\n",
    "print('Starting Portfolio Value: %.2f' % cerebro.broker.getvalue())\n",
    "cerebro.run()\n",
    "print('Final Portfolio Value: %.2f' % cerebro.broker.getvalue())\n",
    "print('最终资金: %.2f' % cerebro.broker.getvalue())\n",
    "# 绘制结果\n",
    "cerebro.plot(style='candlestick', iplot=False, block=True)"
   ],
   "id": "4fdc09d52c49a73d",
   "outputs": [
    {
     "name": "stdout",
     "output_type": "stream",
     "text": [
      "Starting Portfolio Value: 1000000.00\n",
      "2025-01-06: 买入信号触发，可用资金: 1000000.00，投资比例: 70.00%，买入数量: 189189.19\n",
      "2024-12-19: 卖出信号触发，但没有持仓\n",
      "2024-12-12: 买入信号触发，可用资金: 1000000.00，投资比例: 30.00%，买入数量: 75930.14\n",
      "2024-12-05: 卖出信号触发，但没有持仓\n",
      "2024-11-20: 买入信号触发，可用资金: 1000000.00，投资比例: 70.00%，买入数量: 179211.47\n",
      "2024-11-04: 卖出信号触发，但没有持仓\n",
      "2024-10-24: 买入信号触发，可用资金: 1000000.00，投资比例: 30.00%，买入数量: 77942.32\n",
      "2024-10-17: 卖出信号触发，但没有持仓\n",
      "2024-10-14: 买入信号触发，可用资金: 1000000.00，投资比例: 70.00%，买入数量: 176723.05\n",
      "Final Portfolio Value: 1000000.00\n",
      "最终资金: 1000000.00\n"
     ]
    },
    {
     "name": "stderr",
     "output_type": "stream",
     "text": [
      "2025-02-19 13:55:48.013 python[77273:6734231] +[IMKClient subclass]: chose IMKClient_Modern\n",
      "2025-02-19 13:55:48.013 python[77273:6734231] +[IMKInputSession subclass]: chose IMKInputSession_Modern\n",
      "2025-02-19 13:55:48.023 python[77273:6734231] error messaging the mach port for IMKCFRunLoopWakeUpReliable\n"
     ]
    },
    {
     "data": {
      "text/plain": [
       "[[<Figure size 1280x960 with 6 Axes>]]"
      ]
     },
     "execution_count": 6,
     "metadata": {},
     "output_type": "execute_result"
    }
   ],
   "execution_count": 6
  },
  {
   "metadata": {
    "ExecuteTime": {
     "end_time": "2025-02-19T05:56:33.666055Z",
     "start_time": "2025-02-19T05:56:33.664967Z"
    }
   },
   "cell_type": "code",
   "source": "",
   "id": "cc74920ec4bb0965",
   "outputs": [],
   "execution_count": 6
  }
 ],
 "metadata": {
  "kernelspec": {
   "display_name": "Python 3",
   "language": "python",
   "name": "python3"
  },
  "language_info": {
   "codemirror_mode": {
    "name": "ipython",
    "version": 2
   },
   "file_extension": ".py",
   "mimetype": "text/x-python",
   "name": "python",
   "nbconvert_exporter": "python",
   "pygments_lexer": "ipython2",
   "version": "2.7.6"
  }
 },
 "nbformat": 4,
 "nbformat_minor": 5
}
