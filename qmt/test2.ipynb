{
 "cells": [
  {
   "cell_type": "code",
   "id": "initial_id",
   "metadata": {
    "collapsed": true
   },
   "source": [
    ""
   ],
   "outputs": [],
   "execution_count": null
  },
  {
   "metadata": {
    "ExecuteTime": {
     "end_time": "2025-02-24T01:17:00.462482Z",
     "start_time": "2025-02-24T01:16:59.155878Z"
    }
   },
   "cell_type": "code",
   "source": [
    "#!/usr/bin/env python3\n",
    "# -*- coding: utf-8 -*-\n",
    "\"\"\"\n",
    "Created on 19/02/2025.\n",
    "@author: Air.Zou\n",
    "\"\"\"\n",
    "# ... existing code ...\n",
    "import tushare as ts\n",
    "import pandas as pd\n",
    "# 设置 tushare token\n",
    "ts.set_token('2876ea85cb005fb5fa17c809a98174f2d5aae8b1f830110a5ead6211')\n",
    "pro = ts.pro_api()\n",
    "\n",
    "# df = pro.fund_daily(ts_code='510310.SH', start_date='20241010', end_date='20250225')\n",
    "df = pro.daily(ts_code='300059.SZ', start_date='20241010', end_date='20250225')\n",
    "\n",
    "print(df.head())\n"
   ],
   "id": "6e8c49cefcd9441e",
   "outputs": [
    {
     "name": "stdout",
     "output_type": "stream",
     "text": [
      "     ts_code trade_date   open   high    low  close  pre_close  change  \\\n",
      "0  300059.SZ   20250221  23.65  24.52  23.34  24.35      23.57    0.78   \n",
      "1  300059.SZ   20250220  23.72  23.83  23.49  23.57      23.82   -0.25   \n",
      "2  300059.SZ   20250219  23.30  23.96  23.26  23.82      23.33    0.49   \n",
      "3  300059.SZ   20250218  24.20  24.27  23.28  23.33      24.37   -1.04   \n",
      "4  300059.SZ   20250217  24.56  24.73  24.16  24.37      24.22    0.15   \n",
      "\n",
      "   pct_chg         vol        amount  \n",
      "0   3.3093  7552708.73  1.819196e+07  \n",
      "1  -1.0495  2958360.22  6.987388e+06  \n",
      "2   2.1003  4209937.42  9.973690e+06  \n",
      "3  -4.2675  5138122.50  1.222915e+07  \n",
      "4   0.6193  4793366.70  1.172428e+07  \n"
     ]
    }
   ],
   "execution_count": 2
  },
  {
   "metadata": {
    "ExecuteTime": {
     "end_time": "2025-02-24T01:17:06.738142Z",
     "start_time": "2025-02-24T01:17:06.728332Z"
    }
   },
   "cell_type": "code",
   "source": [
    "df[\"date\"]=pd.to_datetime(df[\"trade_date\"])\n",
    "df['openinterest']=0\n",
    "df.rename(columns={'amount':'volume'}, inplace=True)\n",
    "df.set_index(\"date\",inplace=True)\n",
    "df.sort_index(inplace=True)\n",
    "df = df[[\"open\",\"high\",\"low\",\"close\",\"volume\",\"openinterest\"]]\n",
    "print(df.head())\n"
   ],
   "id": "1b68a51f85403348",
   "outputs": [
    {
     "name": "stdout",
     "output_type": "stream",
     "text": [
      "             open   high    low  close        volume  openinterest\n",
      "date                                                              \n",
      "2024-10-10  24.10  24.56  19.92  20.55  5.197314e+07             0\n",
      "2024-10-11  19.51  21.50  19.51  20.85  3.014329e+07             0\n",
      "2024-10-14  20.65  21.60  18.89  21.07  3.339721e+07             0\n",
      "2024-10-15  20.30  21.26  20.13  20.16  2.363889e+07             0\n",
      "2024-10-16  19.64  21.07  19.64  20.38  2.288313e+07             0\n"
     ]
    }
   ],
   "execution_count": 3
  },
  {
   "metadata": {},
   "cell_type": "code",
   "source": [
    "\n",
    "import matplotlib\n",
    "import pandas as pd\n",
    "import talib\n",
    "from datetime import datetime\n",
    "import backtrader as bt\n",
    "import matplotlib.pyplot as plt\n",
    "import akshare as ak\n",
    "import numpy as np\n",
    "class MyStrategy(bt.Strategy):\n",
    "    def __init__(self):\n",
    "        # 添加 MA5 和 MA10 指标\n",
    "        self.sma5 = bt.indicators.SimpleMovingAverage(self.data.close, period=3)\n",
    "        self.sma10 = bt.indicators.SimpleMovingAverage(self.data.close, period=20)\n",
    "        # 计算 MA5 和 MA10 的交叉信号\n",
    "        self.crossover = bt.indicators.CrossOver(self.sma5, self.sma10)\n",
    "\n",
    "    def next(self):\n",
    "        # 如果 MA5 上穿 MA10，买入\n",
    "        if self.crossover > 0:\n",
    "            print(\"买入\")\n",
    "            self.buy()\n",
    "        # 如果 MA5 下穿 MA10，卖出\n",
    "        elif self.crossover < 0:\n",
    "            print(\"卖出\")\n",
    "            self.sell()\n"
   ],
   "id": "e0534e5c7dd55783",
   "outputs": [],
   "execution_count": null
  },
  {
   "metadata": {
    "ExecuteTime": {
     "end_time": "2025-02-24T01:17:12.920517Z",
     "start_time": "2025-02-24T01:17:12.794261Z"
    }
   },
   "cell_type": "code",
   "source": [
    "import backtrader as bt\n",
    "import pandas as pd\n",
    "from datetime import datetime\n",
    "\n",
    "class DynamicPositionStrategy2(bt.Strategy):\n",
    "    def __init__(self):\n",
    "        self.sma5 = bt.indicators.SimpleMovingAverage(self.data.close, period=5)\n",
    "        self.sma10 = bt.indicators.SimpleMovingAverage(self.data.close, period=20)\n",
    "        self.crossover = bt.indicators.CrossOver(self.sma5, self.sma10)\n",
    "        # 假设使用波动率指标来动态调整仓位\n",
    "        self.volatility = bt.indicators.StdDev(self.data.close, period=20)\n",
    "\n",
    "    def next(self):\n",
    "        # 获取当前日期\n",
    "        current_date = self.data.datetime.date(0)\n",
    "        # 获取当前可用资金\n",
    "        available_cash = self.broker.get_cash()\n",
    "        # 获取当前持仓数量\n",
    "        position_size = self.position.size\n",
    "        # 获取当前价格\n",
    "        price = self.data.close[0]\n",
    "\n",
    "        # 手动计算波动率的均值\n",
    "        volatility_data = self.volatility.get(size=20)  # 获取最近 20 个周期的波动率数据\n",
    "        if len(volatility_data) == 20:  # 确保有足够的数据来计算均值\n",
    "            volatility_mean = sum(volatility_data) / len(volatility_data)\n",
    "        else:\n",
    "            # 如果数据不足，使用默认值，这里简单设为 0\n",
    "            volatility_mean = 0\n",
    "\n",
    "        if self.crossover > 0:\n",
    "            # 计算可投资金比例\n",
    "            if self.volatility[0] > volatility_mean:\n",
    "                # 高波动率时使用 30% 的资金\n",
    "                invest_ratio = 0.3\n",
    "            else:\n",
    "                # 低波动率时使用 70% 的资金\n",
    "                invest_ratio = 0.7\n",
    "            invest_amount = available_cash * invest_ratio\n",
    "\n",
    "            if invest_amount > 0:\n",
    "                # 计算可买入数量\n",
    "                size = invest_amount / price\n",
    "                self.buy(size=size)\n",
    "                print(f'{current_date}: 买入信号触发，可用资金: {available_cash:.2f}，投资比例: {invest_ratio * 100:.2f}%，买入数量: {size:.2f}')\n",
    "            else:\n",
    "                print(f'{current_date}: 买入信号触发，但可用资金不足')\n",
    "\n",
    "        elif self.crossover < 0:\n",
    "            if position_size > 0:\n",
    "                self.sell(size=position_size)\n",
    "                print(f'{current_date}: 卖出信号触发，卖出数量: {position_size:.2f}')\n",
    "            else:\n",
    "                print(f'{current_date}: 卖出信号触发，但没有持仓')\n"
   ],
   "id": "b49bc46b1e0fda88",
   "outputs": [],
   "execution_count": 4
  },
  {
   "metadata": {
    "ExecuteTime": {
     "end_time": "2025-02-24T01:17:22.482397Z",
     "start_time": "2025-02-24T01:17:21.867745Z"
    }
   },
   "cell_type": "code",
   "source": [
    "\n",
    "# 创建 Cerebro 引擎\n",
    "cerebro = bt.Cerebro()\n",
    "\n",
    "# 添加策略\n",
    "cerebro.addstrategy(DynamicPositionStrategy2)\n",
    "\n",
    "s = datetime.strptime(\"20241010\", \"%Y%m%d\")\n",
    "e = datetime.strptime(\"20250225\", \"%Y%m%d\")\n",
    "cerebro.adddata(bt.feeds.PandasData(dataname=df,fromdate=s,todate=e))\n",
    "\n",
    "# 设置初始资金\n",
    "cerebro.broker.set_cash(1000000.0)\n",
    "\n",
    "# 设置仓位\n",
    "\n",
    "\n",
    "# 设置交易手续费\n",
    "cerebro.broker.setcommission(commission=0.002)\n",
    "\n",
    "# 运行回测\n",
    "print('Starting Portfolio Value: %.2f' % cerebro.broker.getvalue())\n",
    "cerebro.run()\n",
    "print('Final Portfolio Value: %.2f' % cerebro.broker.getvalue())\n",
    "print('最终资金: %.2f' % cerebro.broker.getvalue())\n",
    "# 绘制结果\n",
    "cerebro.plot(style='candlestick', iplot=False, block=True)"
   ],
   "id": "4fdc09d52c49a73d",
   "outputs": [
    {
     "name": "stdout",
     "output_type": "stream",
     "text": [
      "Starting Portfolio Value: 1000000.00\n",
      "2024-11-26: 卖出信号触发，但没有持仓\n",
      "2024-12-05: 买入信号触发，可用资金: 1000000.00，投资比例: 70.00%，买入数量: 25473.07\n",
      "2024-12-17: 卖出信号触发，卖出数量: 25473.07\n",
      "2025-01-24: 买入信号触发，可用资金: 961617.18，投资比例: 70.00%，买入数量: 27942.38\n",
      "Final Portfolio Value: 967535.93\n",
      "最终资金: 967535.93\n"
     ]
    },
    {
     "name": "stderr",
     "output_type": "stream",
     "text": [
      "UsageError: Invalid GUI request 'macosx', valid ones are:dict_keys(['inline', 'nbagg', 'webagg', 'notebook', 'ipympl', 'widget', None, 'qt', 'qt5', 'qt6', 'wx', 'tk', 'gtk', 'gtk3', 'osx', 'asyncio'])\n"
     ]
    }
   ],
   "execution_count": 5
  },
  {
   "metadata": {
    "jupyter": {
     "is_executing": true
    }
   },
   "cell_type": "code",
   "source": "",
   "id": "cc74920ec4bb0965",
   "outputs": [],
   "execution_count": null
  }
 ],
 "metadata": {
  "kernelspec": {
   "display_name": "Python 3",
   "language": "python",
   "name": "python3"
  },
  "language_info": {
   "codemirror_mode": {
    "name": "ipython",
    "version": 2
   },
   "file_extension": ".py",
   "mimetype": "text/x-python",
   "name": "python",
   "nbconvert_exporter": "python",
   "pygments_lexer": "ipython2",
   "version": "2.7.6"
  }
 },
 "nbformat": 4,
 "nbformat_minor": 5
}
